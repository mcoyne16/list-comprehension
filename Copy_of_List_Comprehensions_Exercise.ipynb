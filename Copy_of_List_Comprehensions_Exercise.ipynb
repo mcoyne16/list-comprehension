{
  "nbformat": 4,
  "nbformat_minor": 0,
  "metadata": {
    "colab": {
      "name": "Copy of List Comprehensions Exercise",
      "provenance": [],
      "collapsed_sections": [],
      "include_colab_link": true
    },
    "kernelspec": {
      "name": "python3",
      "display_name": "Python 3"
    }
  },
  "cells": [
    {
      "cell_type": "markdown",
      "metadata": {
        "id": "view-in-github",
        "colab_type": "text"
      },
      "source": [
        "<a href=\"https://colab.research.google.com/github/mcoyne16/list-comprehension/blob/main/Copy_of_List_Comprehensions_Exercise.ipynb\" target=\"_parent\"><img src=\"https://colab.research.google.com/assets/colab-badge.svg\" alt=\"Open In Colab\"/></a>"
      ]
    },
    {
      "cell_type": "markdown",
      "metadata": {
        "id": "CxPYjQK9pfEK"
      },
      "source": [
        "# Prerequisites\n",
        "\n",
        "  + [Lists](https://github.com/prof-rossetti/intro-to-python/blob/master/notes/python/datatypes/lists.md)\n",
        "  + [List Comprehensions](https://docs.python.org/3/tutorial/datastructures.html?#list-comprehensions)"
      ]
    },
    {
      "cell_type": "markdown",
      "metadata": {
        "id": "10mRJKXD0Res"
      },
      "source": [
        "# Challenges\n",
        "\n",
        "In the corresponding code cells below, use list comprehensions  to transform the provided list (i.e. `my_numbers`) in each of the following ways:\n",
        "\n",
        "  1. Use mapping capabilities to multiply each number by 100 (e.g. `[100, 200, 300, 400, 500, 600, 700]`)\n",
        "  2. Use filtering capabilities to return only the numbers greater than three (e.g. `[4, 5, 6, 7]`)\n",
        "  3. Use filtering capabilities to return only the numbers greater than eight (e.g. `[]`)\n",
        "  4. Use mapping and filtering capabilities to return only the numbers greater than three, each multiplied by 100 (e.g. `[400, 500, 600, 700]`)\n",
        "\n",
        "Example final output:\n",
        "\n",
        "```\n",
        "--------------\n",
        "ORIGINAL LIST: [1, 2, 3, 4, 5, 6, 7]\n",
        "--------------\n",
        "1) MAPPED LIST: [100, 200, 300, 400, 500, 600, 700]\n",
        "--------------\n",
        "2) FILTERED LIST W/ MATCHES: [4, 5, 6, 7]\n",
        "--------------\n",
        "3) FILTERED LIST W/O MATCHES: []\n",
        "--------------\n",
        "4) MAPPED AND FILTERED LIST: [400, 500, 600, 700]\n",
        "```\n",
        "\n",
        "Spoiler Alert: [List Comprehensions Exercise Solution](https://github.com/prof-rossetti/intro-to-python/blob/master/exercises/list-comprehensions/solutions.py)"
      ]
    },
    {
      "cell_type": "code",
      "metadata": {
        "id": "y2Cu-cTlkMm2"
      },
      "source": [
        "# total_comprehension.py\r\n",
        "\r\n",
        "my_numbers = [1, 2, 3, 4, 5, 6, 7]\r\n",
        "print(\"--------------\")\r\n",
        "print(\"ORIGINAL LIST:\", my_numbers)\r\n",
        "\r\n",
        "print(\"--------------\")\r\n",
        "print(\"TOTAL COMPREHENSION...\")\r\n",
        "\r\n",
        "#\r\n",
        "# MAPPING\r\n",
        "#\r\n",
        "\r\n",
        "mapped_list = [n * 100 for n in my_numbers]\r\n",
        "print(\"--------------\")\r\n",
        "print(\"MAPPED LIST:\", mapped_list) #> [100, 200, 300, 400, 500, 600, 700]\r\n",
        "\r\n",
        "#\r\n",
        "# FILTERING\r\n",
        "#\r\n",
        "\r\n",
        "filtered_list = [n for n in my_numbers if n > 3]\r\n",
        "print(\"--------------\")\r\n",
        "print(\"FILTERED LIST W/ MATCHES:\", filtered_list) #> [4, 5, 6, 7]\r\n",
        "\r\n",
        "no_matches = [n for n in my_numbers if n > 8]\r\n",
        "print(\"--------------\")\r\n",
        "print(\"FILTERED LIST W/O MATCHES:\", no_matches) #> []\r\n",
        "\r\n",
        "#\r\n",
        "# MAPPING AND FILTERING to return only the numbers greater than three, each multiplied by 100 (i.e. [400, 500, 600, 700])\r\n",
        "#\r\n",
        "\r\n",
        "last_list = [n * 100 for n in my_numbers if n > 3]\r\n",
        "print(\"--------------\")\r\n",
        "print(\"MAPPED AND FILTERED LIST:\", last_list) #> [400, 500, 600, 700]"
      ],
      "execution_count": null,
      "outputs": []
    }
  ]
}